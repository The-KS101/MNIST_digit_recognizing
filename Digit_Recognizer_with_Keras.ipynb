{
  "nbformat": 4,
  "nbformat_minor": 0,
  "metadata": {
    "colab": {
      "name": "Digit Recognizer with Keras.ipynb",
      "provenance": [],
      "toc_visible": true,
      "authorship_tag": "ABX9TyNc5armqgsS/ERJtbG/leZF",
      "include_colab_link": true
    },
    "kernelspec": {
      "name": "python3",
      "display_name": "Python 3"
    }
  },
  "cells": [
    {
      "cell_type": "markdown",
      "metadata": {
        "id": "view-in-github",
        "colab_type": "text"
      },
      "source": [
        "<a href=\"https://colab.research.google.com/github/The-KS101/MNIST_digit_recognizing/blob/master/Digit_Recognizer_with_Keras.ipynb\" target=\"_parent\"><img src=\"https://colab.research.google.com/assets/colab-badge.svg\" alt=\"Open In Colab\"/></a>"
      ]
    },
    {
      "cell_type": "code",
      "metadata": {
        "id": "xKeJoGoR3cLt",
        "colab_type": "code",
        "colab": {
          "base_uri": "https://localhost:8080/",
          "height": 34
        },
        "outputId": "8ecc1e94-7519-4bc5-a9f0-d320dace6571"
      },
      "source": [
        "import numpy as np\n",
        "import keras\n",
        "from keras.datasets import mnist\n",
        "from keras.utils import np_utils\n",
        "from keras.models import Sequential\n",
        "from keras.layers import Flatten, Dense, Dropout\n",
        "from keras import backend as K"
      ],
      "execution_count": 1,
      "outputs": [
        {
          "output_type": "stream",
          "text": [
            "Using TensorFlow backend.\n"
          ],
          "name": "stderr"
        }
      ]
    },
    {
      "cell_type": "markdown",
      "metadata": {
        "id": "bgwiX4ly4cy_",
        "colab_type": "text"
      },
      "source": [
        "######Get the dataset"
      ]
    },
    {
      "cell_type": "code",
      "metadata": {
        "id": "9xvQ-z-u4bq1",
        "colab_type": "code",
        "colab": {}
      },
      "source": [
        "(x_train, y_train), (x_test, y_test) = mnist.load_data()"
      ],
      "execution_count": 2,
      "outputs": []
    },
    {
      "cell_type": "markdown",
      "metadata": {
        "id": "hrchTcvU54-Z",
        "colab_type": "text"
      },
      "source": [
        "####Check the type and size of data in the dataset and plot the data."
      ]
    },
    {
      "cell_type": "code",
      "metadata": {
        "id": "3teBBCnO5Ohv",
        "colab_type": "code",
        "colab": {
          "base_uri": "https://localhost:8080/",
          "height": 34
        },
        "outputId": "7924665e-9be8-4252-a3ae-e16b570d406e"
      },
      "source": [
        "type(x_train[0]), x_train.shape, y_train.shape"
      ],
      "execution_count": 3,
      "outputs": [
        {
          "output_type": "execute_result",
          "data": {
            "text/plain": [
              "(numpy.ndarray, (60000, 28, 28), (60000,))"
            ]
          },
          "metadata": {
            "tags": []
          },
          "execution_count": 3
        }
      ]
    },
    {
      "cell_type": "code",
      "metadata": {
        "id": "f7D2Ah7h5wE2",
        "colab_type": "code",
        "colab": {
          "base_uri": "https://localhost:8080/",
          "height": 282
        },
        "outputId": "980bed47-ebb6-4ecc-b6bb-ee41d9093b01"
      },
      "source": [
        "import matplotlib.pyplot as plt\n",
        "plt.imshow(x_train[0], cmap=plt.cm.binary)"
      ],
      "execution_count": 4,
      "outputs": [
        {
          "output_type": "execute_result",
          "data": {
            "text/plain": [
              "<matplotlib.image.AxesImage at 0x7f2e5d4e8320>"
            ]
          },
          "metadata": {
            "tags": []
          },
          "execution_count": 4
        },
        {
          "output_type": "display_data",
          "data": {
            "image/png": "[encoded data removed]",
            "text/plain": [
              "<Figure size 432x288 with 1 Axes>"
            ]
          },
          "metadata": {
            "tags": [],
            "needs_background": "light"
          }
        }
      ]
    },
    {
      "cell_type": "markdown",
      "metadata": {
        "id": "LRQ3xyDLsD8Z",
        "colab_type": "text"
      },
      "source": [
        "######Now we normalize our pixel values from 0-255 to 0 or 1, making it  easier for the netwirk to perform computations"
      ]
    },
    {
      "cell_type": "code",
      "metadata": {
        "id": "GLPjUutcrpmU",
        "colab_type": "code",
        "colab": {
          "base_uri": "https://localhost:8080/",
          "height": 282
        },
        "outputId": "ab9ff439-d7ce-448f-cad6-0a8529f06905"
      },
      "source": [
        "x_train = keras.utils.normalize(x_train, axis=1)\n",
        "x_test = keras.utils.normalize(x_test, axis=1)\n",
        "plt.imshow(x_train[0], cmap=plt.cm.binary)"
      ],
      "execution_count": 5,
      "outputs": [
        {
          "output_type": "execute_result",
          "data": {
            "text/plain": [
              "<matplotlib.image.AxesImage at 0x7f2e5d038cf8>"
            ]
          },
          "metadata": {
            "tags": []
          },
          "execution_count": 5
        },
        {
          "output_type": "display_data",
          "data": {
            "image/png": "[encoded data removed]",
            "text/plain": [
              "<Figure size 432x288 with 1 Axes>"
            ]
          },
          "metadata": {
            "tags": [],
            "needs_background": "light"
          }
        }
      ]
    },
    {
      "cell_type": "markdown",
      "metadata": {
        "id": "7RU4OjlKs9lH",
        "colab_type": "text"
      },
      "source": [
        "##Building the model\n",
        "We use a feed forward Neural Network\n",
        "Our First layer always expects an input dimension corresponding to the data\n",
        "size being inputed. Hidden layers infer their inpu dimensions and do not need to be initialized. \n",
        "First flatten the input shape of 28 * 28 into a shape of 784, then add the layer to the model. Then continue to add layers to the model and at the end, the output dimension will be equal to the required predictions(0-9)"
      ]
    },
    {
      "cell_type": "code",
      "metadata": {
        "id": "TDVK41ZSs8gz",
        "colab_type": "code",
        "colab": {
          "base_uri": "https://localhost:8080/",
          "height": 289
        },
        "outputId": "8b225732-3e7a-472e-b4b6-d21c13ce3661"
      },
      "source": [
        "model = Sequential()\n",
        "model.add(Flatten(input_shape=(28, 28)))\n",
        "model.add(Dense(64, activation='relu', kernel_initializer='glorot_uniform', bias_initializer='zeros'))\n",
        "model.add(Dense(18, activation='relu'))\n",
        "model.add(Dense(10, activation='softmax'))\n",
        "model.summary()"
      ],
      "execution_count": 6,
      "outputs": [
        {
          "output_type": "stream",
          "text": [
            "Model: \"sequential_1\"\n",
            "_________________________________________________________________\n",
            "Layer (type)                 Output Shape              Param #   \n",
            "=================================================================\n",
            "flatten_1 (Flatten)          (None, 784)               0         \n",
            "_________________________________________________________________\n",
            "dense_1 (Dense)              (None, 64)                50240     \n",
            "_________________________________________________________________\n",
            "dense_2 (Dense)              (None, 18)                1170      \n",
            "_________________________________________________________________\n",
            "dense_3 (Dense)              (None, 10)                190       \n",
            "=================================================================\n",
            "Total params: 51,600\n",
            "Trainable params: 51,600\n",
            "Non-trainable params: 0\n",
            "_________________________________________________________________\n"
          ],
          "name": "stdout"
        }
      ]
    },
    {
      "cell_type": "markdown",
      "metadata": {
        "id": "2lV3TTn9zrhC",
        "colab_type": "text"
      },
      "source": [
        "# Compiling and fitting the model\n",
        "Compiling the model is basically the manner in which your neural network learns, giving you control of how the neural network learns. After compiling the model, it is fit to the training data and their labels a selected number of times(EPOCHS) and other features like batch size or a validation split or shuffle."
      ]
    },
    {
      "cell_type": "code",
      "metadata": {
        "id": "TGdDeMsHzwE6",
        "colab_type": "code",
        "colab": {}
      },
      "source": [
        "model.compile(optimizer='rmsprop', loss='sparse_categorical_crossentropy', metrics=['accuracy'])"
      ],
      "execution_count": 7,
      "outputs": []
    },
    {
      "cell_type": "code",
      "metadata": {
        "id": "Kir3_raC2oGv",
        "colab_type": "code",
        "colab": {
          "base_uri": "https://localhost:8080/",
          "height": 204
        },
        "outputId": "26ba508b-121f-4cbf-8ee0-84a82e3f6b0c"
      },
      "source": [
        "model.fit(x_train, y_train, epochs=5, batch_size=2)"
      ],
      "execution_count": 8,
      "outputs": [
        {
          "output_type": "stream",
          "text": [
            "Epoch 1/5\n",
            "60000/60000 [==============================] - 38s 635us/step - loss: 0.3409 - accuracy: 0.9126\n",
            "Epoch 2/5\n",
            "60000/60000 [==============================] - 38s 634us/step - loss: 0.2733 - accuracy: 0.9478\n",
            "Epoch 3/5\n",
            "60000/60000 [==============================] - 41s 681us/step - loss: 0.2822 - accuracy: 0.9528\n",
            "Epoch 4/5\n",
            "60000/60000 [==============================] - 39s 653us/step - loss: 0.2934 - accuracy: 0.9567\n",
            "Epoch 5/5\n",
            "60000/60000 [==============================] - 39s 647us/step - loss: 0.2985 - accuracy: 0.9585\n"
          ],
          "name": "stdout"
        },
        {
          "output_type": "execute_result",
          "data": {
            "text/plain": [
              "<keras.callbacks.callbacks.History at 0x7f2e56a2ce80>"
            ]
          },
          "metadata": {
            "tags": []
          },
          "execution_count": 8
        }
      ]
    },
    {
      "cell_type": "markdown",
      "metadata": {
        "id": "DTGTd8QK5LFy",
        "colab_type": "text"
      },
      "source": [
        "###Evaluating the model\n",
        "We evalaute the model on a test set to ensure that there is no overfitting to the data."
      ]
    },
    {
      "cell_type": "code",
      "metadata": {
        "id": "lrQZY4oM5W31",
        "colab_type": "code",
        "colab": {
          "base_uri": "https://localhost:8080/",
          "height": 299
        },
        "outputId": "36c2e93e-230f-48fd-d583-4c6dc5cdfc1c"
      },
      "source": [
        "print(model.evaluate(x_test, y_test))\n",
        "predictions = model.predict([x_test])\n",
        "plt.imshow(x_test[0])\n",
        "model.save('keras_mnist.model')"
      ],
      "execution_count": 9,
      "outputs": [
        {
          "output_type": "stream",
          "text": [
            "10000/10000 [==============================] - 0s 25us/step\n",
            "[0.32753069766837134, 0.9574999809265137]\n"
          ],
          "name": "stdout"
        },
        {
          "output_type": "display_data",
          "data": {
            "image/png": "[encoded data removed]",
            "text/plain": [
              "<Figure size 432x288 with 1 Axes>"
            ]
          },
          "metadata": {
            "tags": [],
            "needs_background": "light"
          }
        }
      ]
    },
    {
      "cell_type": "code",
      "metadata": {
        "id": "naeCDBWL-4jY",
        "colab_type": "code",
        "colab": {
          "base_uri": "https://localhost:8080/",
          "height": 510
        },
        "outputId": "21177f7c-13f5-4d56-c233-085ce2f14072"
      },
      "source": [
        "# Improving the output\n",
        "model1 = Sequential()\n",
        "model1.add(Flatten(input_shape = (28, 28)))\n",
        "model1.add(Dense(1024, activation='relu', kernel_regularizer=keras.regularizers.l2(0.0001)))\n",
        "model1.add(Dense(28, activation='relu', kernel_regularizer=keras.regularizers.l2(0.0001)))\n",
        "model1.add(Dense(10, activation='softmax'))\n",
        "print(model1.summary())\n",
        "model1.compile(optimizer='adam', loss='sparse_categorical_crossentropy', metrics=['accuracy'])\n",
        "model1.fit(x_train, y_train, epochs=5, batch_size=100)\n",
        "model1.evaluate(x_test, y_test)"
      ],
      "execution_count": 10,
      "outputs": [
        {
          "output_type": "stream",
          "text": [
            "Model: \"sequential_2\"\n",
            "_________________________________________________________________\n",
            "Layer (type)                 Output Shape              Param #   \n",
            "=================================================================\n",
            "flatten_2 (Flatten)          (None, 784)               0         \n",
            "_________________________________________________________________\n",
            "dense_4 (Dense)              (None, 1024)              803840    \n",
            "_________________________________________________________________\n",
            "dense_5 (Dense)              (None, 28)                28700     \n",
            "_________________________________________________________________\n",
            "dense_6 (Dense)              (None, 10)                290       \n",
            "=================================================================\n",
            "Total params: 832,830\n",
            "Trainable params: 832,830\n",
            "Non-trainable params: 0\n",
            "_________________________________________________________________\n",
            "None\n",
            "Epoch 1/5\n",
            "60000/60000 [==============================] - 11s 191us/step - loss: 0.3615 - accuracy: 0.9157\n",
            "Epoch 2/5\n",
            "60000/60000 [==============================] - 11s 188us/step - loss: 0.1844 - accuracy: 0.9657\n",
            "Epoch 3/5\n",
            "60000/60000 [==============================] - 11s 190us/step - loss: 0.1511 - accuracy: 0.9749\n",
            "Epoch 4/5\n",
            "60000/60000 [==============================] - 11s 189us/step - loss: 0.1363 - accuracy: 0.9780\n",
            "Epoch 5/5\n",
            "60000/60000 [==============================] - 11s 190us/step - loss: 0.1262 - accuracy: 0.9815\n",
            "10000/10000 [==============================] - 1s 106us/step\n"
          ],
          "name": "stdout"
        },
        {
          "output_type": "execute_result",
          "data": {
            "text/plain": [
              "[0.14206526659727098, 0.9742000102996826]"
            ]
          },
          "metadata": {
            "tags": []
          },
          "execution_count": 10
        }
      ]
    },
    {
      "cell_type": "code",
      "metadata": {
        "id": "tSBNF8x4AVyV",
        "colab_type": "code",
        "colab": {
          "base_uri": "https://localhost:8080/",
          "height": 544
        },
        "outputId": "4b89c2b7-ea55-4d8f-aa82-f629a7eb4875"
      },
      "source": [
        "# Implementing weight regularizers\n",
        "model2 = Sequential()\n",
        "model2.add(Flatten(input_shape=(28, 28)))\n",
        "model2.add(Dense(1024, activation='relu'))\n",
        "model2.add(Dropout(0.3))\n",
        "model2.add(Dense(48, activation='relu'))\n",
        "model2.add(Dense(10, activation='softmax'))\n",
        "print(model2.summary())\n",
        "model2.compile(optimizer='adam', loss='sparse_categorical_crossentropy', metrics=['accuracy'])\n",
        "model2.fit(x_train, y_train, epochs=5, batch_size=100)\n",
        "model2.evaluate(x_test, y_test)"
      ],
      "execution_count": 11,
      "outputs": [
        {
          "output_type": "stream",
          "text": [
            "Model: \"sequential_3\"\n",
            "_________________________________________________________________\n",
            "Layer (type)                 Output Shape              Param #   \n",
            "=================================================================\n",
            "flatten_3 (Flatten)          (None, 784)               0         \n",
            "_________________________________________________________________\n",
            "dense_7 (Dense)              (None, 1024)              803840    \n",
            "_________________________________________________________________\n",
            "dropout_1 (Dropout)          (None, 1024)              0         \n",
            "_________________________________________________________________\n",
            "dense_8 (Dense)              (None, 48)                49200     \n",
            "_________________________________________________________________\n",
            "dense_9 (Dense)              (None, 10)                490       \n",
            "=================================================================\n",
            "Total params: 853,530\n",
            "Trainable params: 853,530\n",
            "Non-trainable params: 0\n",
            "_________________________________________________________________\n",
            "None\n",
            "Epoch 1/5\n",
            "60000/60000 [==============================] - 11s 190us/step - loss: 0.2791 - accuracy: 0.9198\n",
            "Epoch 2/5\n",
            "60000/60000 [==============================] - 11s 190us/step - loss: 0.1107 - accuracy: 0.9664\n",
            "Epoch 3/5\n",
            "60000/60000 [==============================] - 11s 188us/step - loss: 0.0766 - accuracy: 0.9759\n",
            "Epoch 4/5\n",
            "60000/60000 [==============================] - 11s 188us/step - loss: 0.0582 - accuracy: 0.9815\n",
            "Epoch 5/5\n",
            "60000/60000 [==============================] - 11s 190us/step - loss: 0.0470 - accuracy: 0.9848\n",
            "10000/10000 [==============================] - 1s 83us/step\n"
          ],
          "name": "stdout"
        },
        {
          "output_type": "execute_result",
          "data": {
            "text/plain": [
              "[0.07486967066600919, 0.9769999980926514]"
            ]
          },
          "metadata": {
            "tags": []
          },
          "execution_count": 11
        }
      ]
    },
    {
      "cell_type": "markdown",
      "metadata": {
        "id": "2EA-lFwADesB",
        "colab_type": "text"
      },
      "source": [
        "Accuracy is seen to improve to approximately 98% with a drop out layer of 0.3."
      ]
    }
  ]
}